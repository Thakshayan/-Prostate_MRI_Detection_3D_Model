{
 "cells": [
  {
   "cell_type": "code",
   "execution_count": 1,
   "metadata": {},
   "outputs": [],
   "source": [
    "HOME_DIR =       \"./\"\n",
    "DATA_DIR =       \"./PROSTATEx_masks/Files/prostate/\"\n",
    "OUT_DIR =        \"./results/prostate/\"\n",
    "SLICED_OUT_DIR = \"./data/sliced/prostate/\"\n",
    "AUG_OUT_DIR = \"./data/augmented/prostate/\""
   ]
  },
  {
   "cell_type": "code",
   "execution_count": 2,
   "metadata": {},
   "outputs": [],
   "source": [
    "import os\n",
    "from glob import glob\n",
    "import shutil\n",
    "from tqdm import tqdm\n",
    "import dicom2nifti\n",
    "import numpy as np\n",
    "import nibabel as nib\n",
    "import pandas as pd\n",
    "\n",
    "\n",
    "import json\n",
    "import matplotlib.pyplot as plt\n",
    "%matplotlib inline\n",
    "from ipywidgets import interact, interactive, IntSlider, ToggleButtons\n",
    "import os\n",
    "\n",
    "from monai.utils import first"
   ]
  },
  {
   "cell_type": "code",
   "execution_count": 3,
   "metadata": {},
   "outputs": [],
   "source": [
    "def get_data_path(path):\n",
    "  f = open( path + 'config.json')\n",
    "  jdata = json.load(f)\n",
    "  f.close()\n",
    "  return jdata[\"path\"]"
   ]
  },
  {
   "cell_type": "code",
   "execution_count": 4,
   "metadata": {},
   "outputs": [],
   "source": [
    "data = get_data_path(SLICED_OUT_DIR)"
   ]
  },
  {
   "cell_type": "code",
   "execution_count": 5,
   "metadata": {},
   "outputs": [],
   "source": [
    "import torch\n",
    "import nibabel as nib\n",
    "\n",
    "import elasticdeform \n",
    "from skimage.util import random_noise\n",
    "import scipy\n",
    "from scipy.ndimage import affine_transform\n",
    "\n",
    "import torchvision.transforms.functional as TF\n",
    "import nibabel as nib\n",
    "#import torchio as tio\n",
    "\n",
    "import numpy as np\n",
    "from scipy import ndimage\n",
    "from scipy.ndimage import shift\n",
    "import random"
   ]
  },
  {
   "cell_type": "code",
   "execution_count": 10,
   "metadata": {},
   "outputs": [],
   "source": [
    "def hFlipRotate(image, label):\n",
    "    angle =  random.uniform(-5, 5)\n",
    "    imgvol = np.array( image.dataobj )\n",
    "    lblvol = np.array( label.dataobj )\n",
    "\n",
    "    # horizontal flip\n",
    "    img = np.fliplr(imgvol)\n",
    "    lbl = np.fliplr(lblvol)\n",
    "    \n",
    "    #Rotate\n",
    "    img = ndimage.rotate(img, angle, reshape=False)\n",
    "    lbl = ndimage.rotate(lbl, angle, reshape=False)\n",
    "    \n",
    "    image = nib.Nifti1Image ( img, image.affine )\n",
    "    label = nib.Nifti1Image ( lbl, label.affine )\n",
    "    return image, label"
   ]
  },
  {
   "cell_type": "code",
   "execution_count": 421,
   "metadata": {},
   "outputs": [],
   "source": [
    "def hFlipRotateZoom(image, label):\n",
    "    angle = random.uniform(-5, 5)\n",
    "    imgvol = np.array(image.dataobj)\n",
    "    lblvol = np.array(label.dataobj)\n",
    "\n",
    "    # rotate\n",
    "    img = ndimage.rotate(imgvol, angle, reshape=False)\n",
    "    lbl = ndimage.rotate(lblvol, angle, reshape=False)\n",
    "\n",
    "    # horizontal flip\n",
    "    img = np.fliplr(img)\n",
    "    lbl = np.fliplr(lbl)\n",
    "\n",
    "    # zoom\n",
    "    zoom_factor = random.uniform(0.8, 1.2)\n",
    "    zoomed_img = ndimage.zoom(img, zoom_factor, order=1)\n",
    "    zoomed_lbl = ndimage.zoom(lbl, zoom_factor, order=0)\n",
    "\n",
    "    image = nib.Nifti1Image(zoomed_img, image.affine)\n",
    "    label = nib.Nifti1Image(zoomed_lbl, label.affine)\n",
    "    return image, label"
   ]
  },
  {
   "cell_type": "code",
   "execution_count": 65,
   "metadata": {},
   "outputs": [],
   "source": [
    "import scipy\n",
    "\n",
    "def hFlipShear(image, label):\n",
    "    angle = random.uniform(-5, 5)\n",
    "    shear = random.uniform(-0.2,0.2)\n",
    "\n",
    "    imgvol = np.array(image.dataobj)\n",
    "    lblvol = np.array(label.dataobj)\n",
    "\n",
    "    # horizontal flip\n",
    "    img = np.fliplr(imgvol)\n",
    "    lbl = np.fliplr(lblvol)\n",
    "\n",
    "    # apply shear transformation\n",
    "    matrix = np.array([[1, shear, 0], [0, 1, 0], [0, 0, 1]])\n",
    "    img = scipy.ndimage.affine_transform(img, matrix)\n",
    "    lbl = scipy.ndimage.affine_transform(lbl, matrix)\n",
    "\n",
    "    image = nib.Nifti1Image(img, image.affine)\n",
    "    label = nib.Nifti1Image(lbl, label.affine)\n",
    "    return image, label\n"
   ]
  },
  {
   "cell_type": "code",
   "execution_count": 404,
   "metadata": {},
   "outputs": [],
   "source": [
    "def random_flip_rotate_noise(image, label):\n",
    "    angle = random.uniform(-5, 5)\n",
    "    imgvol = np.array(image.dataobj)\n",
    "    lblvol = np.array(label.dataobj)\n",
    "\n",
    "    # Randomly flip the image and label along one or more axes\n",
    "    flip_axes = tuple(np.random.choice([-1, 1], size=image.ndim, replace=True))\n",
    "    img = np.flip(imgvol, axis=flip_axes)\n",
    "    lbl = np.flip(lblvol, axis=flip_axes)\n",
    "\n",
    "    # Rotate\n",
    "    img = ndimage.rotate(img, angle, reshape=False)\n",
    "    lbl = ndimage.rotate(lbl, angle, reshape=False)\n",
    "\n",
    "    # Add noise\n",
    "    # Gaussian noise\n",
    "    img = random_noise(img, mode='gaussian', var=0.000001, clip=False)\n",
    "    # Salt & Pepper noise\n",
    "    img = random_noise(img, mode='s&p', salt_vs_pepper=0.5, amount=0.0000005, clip=False)\n",
    "\n",
    "    image = nib.Nifti1Image(img, image.affine)\n",
    "    label = nib.Nifti1Image(lbl, label.affine)\n",
    "    return image, label\n"
   ]
  },
  {
   "cell_type": "code",
   "execution_count": 19,
   "metadata": {},
   "outputs": [],
   "source": [
    "import scipy\n",
    "from scipy.ndimage import affine_transform\n",
    "\n",
    "def hFlipShearTrans(image, label):\n",
    "    angle = random.uniform(-5, 5)\n",
    "    shear = random.uniform(-0.2,0.2)\n",
    "    translate = (random.uniform(-10,10), random.uniform(-10,10), random.uniform(-10,10))\n",
    "\n",
    "    imgvol = np.array(image.dataobj)\n",
    "    lblvol = np.array(label.dataobj)\n",
    "\n",
    "    # horizontal flip\n",
    "    img = np.fliplr(imgvol)\n",
    "    lbl = np.fliplr(lblvol)\n",
    "\n",
    "    # apply shear transformation\n",
    "    matrix = np.array([[1, shear, 0, translate[0]], [0, 1, 0, translate[1]], [0, 0, 1, translate[2]], [0, 0, 0, 1]])\n",
    "    img = affine_transform(img, matrix, order=1)\n",
    "    lbl = affine_transform(lbl, matrix, order=0)\n",
    "\n",
    "    image = nib.Nifti1Image(img, image.affine)\n",
    "    label = nib.Nifti1Image(lbl, label.affine)\n",
    "    return image, label"
   ]
  },
  {
   "cell_type": "code",
   "execution_count": 416,
   "metadata": {},
   "outputs": [],
   "source": [
    "def hFlipRotateNoise(image, label):\n",
    "    angle =  random.uniform(-5, 5)\n",
    "    imgvol = np.array( image.dataobj )\n",
    "    lblvol = np.array( label.dataobj )\n",
    "\n",
    "    # horizontal flip\n",
    "    img = np.fliplr(imgvol)\n",
    "    lbl = np.fliplr(lblvol)\n",
    "    \n",
    "    # Rotate\n",
    "    img = ndimage.rotate(img, angle, reshape=False)\n",
    "    lbl = ndimage.rotate(lbl, angle, reshape=False)\n",
    "    \n",
    "    # Noise\n",
    "    # # Gaussian noise\n",
    "    # img = random_noise(imgvol, mode='gaussian', var=0.0000001, clip=False)\n",
    "    # # Salt & Pepper noise\n",
    "    # img = random_noise(img, mode='s&p',salt_vs_pepper=0.5, amount=0.00000005, clip=False)\n",
    "\n",
    "\n",
    "    \n",
    "    image = nib.Nifti1Image ( img, image.affine )\n",
    "    label = nib.Nifti1Image ( lblvol, label.affine )\n",
    "    return image, label"
   ]
  },
  {
   "cell_type": "code",
   "execution_count": 499,
   "metadata": {},
   "outputs": [],
   "source": [
    "def random_flip_rotate_zoom_translate(image, label):\n",
    "    angle = random.uniform(-5, 5)\n",
    "    flip_axes = [ i for i in range(2) if i!=2 and np.random.choice([0, 1]) == 1]\n",
    "    translate = (random.uniform(-10,10), random.uniform(-10,10))\n",
    "    matrix = np.array([[1, 0, 0, translate[0]], [0, 1, 0, translate[1]], [0, 0, 1,  0], [0, 0, 0, 1]])\n",
    "\n",
    "    imgvol = np.array(image.dataobj)\n",
    "    lblvol = np.array(label.dataobj)\n",
    "\n",
    "    # Rotate\n",
    "    img = ndimage.rotate(imgvol, angle, reshape=False)\n",
    "    lbl = ndimage.rotate(lblvol, angle, reshape=False)\n",
    "\n",
    "    # Randomly flip the image and label along one or more axes, except for the z-axis\n",
    "    img = np.flip(img, axis=flip_axes)\n",
    "    lbl = np.flip(lbl, axis=flip_axes)\n",
    "\n",
    "    # zoom\n",
    "    zoom_factor = random.uniform(0.8, 1.2)\n",
    "    img = ndimage.zoom(img, zoom_factor, order=1)\n",
    "    lbl = ndimage.zoom(lbl, zoom_factor, order=0)\n",
    "\n",
    "    # Translate\n",
    "    img = affine_transform(img, matrix, order=1)\n",
    "    lbl = affine_transform(lbl, matrix, order=0)\n",
    "\n",
    "    image = nib.Nifti1Image(img, image.affine)\n",
    "    label = nib.Nifti1Image(lbl, label.affine)\n",
    "    return image, label\n"
   ]
  },
  {
   "cell_type": "code",
   "execution_count": 502,
   "metadata": {},
   "outputs": [],
   "source": [
    "def random_flip_rotate_zoom_shear_translate(image, label):\n",
    "    \n",
    "    angle = random.uniform(-5, 5)\n",
    "    flip_axes = [ i for i in range(2) if i!=2 and np.random.choice([0, 1]) == 1]\n",
    "    translate = (random.uniform(-10,10), random.uniform(-10,10))\n",
    "    shear = random.uniform(-0.2,0.2)\n",
    "    matrix = np.array([[1, shear, 0, translate[0]], [0, 1, 0, translate[1]], [0, 0, 1, 0], [0, 0, 0, 1]])\n",
    "    \n",
    "\n",
    "    imgvol = np.array(image.dataobj)\n",
    "    lblvol = np.array(label.dataobj)\n",
    "\n",
    "    # Rotate\n",
    "    img = ndimage.rotate(imgvol, angle, reshape=False)\n",
    "    lbl = ndimage.rotate(lblvol, angle, reshape=False)\n",
    "\n",
    "    # Randomly flip the image and label along one or more axes, except for the z-axis\n",
    "    img = np.flip(img, axis=flip_axes)\n",
    "    lbl = np.flip(lbl, axis=flip_axes)\n",
    "\n",
    "    # zoom\n",
    "    zoom_factor = random.uniform(0.8, 1.2)\n",
    "    img = ndimage.zoom(img, zoom_factor, order=1)\n",
    "    lbl = ndimage.zoom(lbl, zoom_factor, order=0)\n",
    "\n",
    "    # Translate\n",
    "    img = affine_transform(img, matrix, order=1)\n",
    "    lbl = affine_transform(lbl, matrix, order=0)\n",
    "\n",
    "    image = nib.Nifti1Image(img, image.affine)\n",
    "    label = nib.Nifti1Image(lbl, label.affine)\n",
    "    return image, label\n"
   ]
  },
  {
   "cell_type": "code",
   "execution_count": null,
   "metadata": {},
   "outputs": [],
   "source": [
    "def random_flip_rotate_translate_deform(image, label):\n",
    "    angle = random.uniform(-5, 5)\n",
    "    flip_axes = [ i for i in range(2) if i!=2 and np.random.choice([0, 1]) == 1]\n",
    "    sigma = random.choice([2, 3])\n",
    "    translate = (random.uniform(-10,10), random.uniform(-10,10))\n",
    "    matrix = np.array([[1, 0, 0, translate[0]], [0, 1, 0, translate[1]], [0, 0, 1,  0], [0, 0, 0, 1]])\n",
    "\n",
    "    imgvol = np.array(image.dataobj)\n",
    "    lblvol = np.array(label.dataobj)\n",
    "\n",
    "    # Rotate\n",
    "    img = ndimage.rotate(imgvol, angle, reshape=False)\n",
    "    lbl = ndimage.rotate(lblvol, angle, reshape=False)\n",
    "\n",
    "    # Randomly flip the image and label along one or more axes, except for the z-axis\n",
    "    img = np.flip(img, axis=flip_axes)\n",
    "    lbl = np.flip(lbl, axis=flip_axes)\n",
    "\n",
    "    # zoom\n",
    "    zoom_factor = random.uniform(0.8, 1.2)\n",
    "    img = ndimage.zoom(img, zoom_factor, order=1)\n",
    "    lbl = ndimage.zoom(lbl, zoom_factor, order=0)\n",
    "\n",
    "    # Elastic deformation\n",
    "    [img, lbl] = elasticdeform.deform_random_grid([img, lbl], sigma=sigma, axis=[(0, 1), (0, 1)], order=[1, 0], mode='constant')\n",
    "    \n",
    "\n",
    "\n",
    "    # Translate\n",
    "    img = affine_transform(img, matrix, order=1)\n",
    "    lbl = affine_transform(lbl, matrix, order=0)\n",
    "\n",
    "    image = nib.Nifti1Image(img, image.affine)\n",
    "    label = nib.Nifti1Image(lbl, label.affine)\n",
    "    return image, label\n"
   ]
  },
  {
   "cell_type": "code",
   "execution_count": 31,
   "metadata": {},
   "outputs": [],
   "source": [
    "import random\n",
    "import numpy as np\n",
    "import nibabel as nib\n",
    "from scipy import ndimage\n",
    "from skimage.exposure import adjust_gamma, rescale_intensity\n",
    "\n",
    "def random_flip_rotate_zoom_translate_brightness(image, label):\n",
    "    angle = random.uniform(-5, 5)\n",
    "    flip_axes = [i for i in range(2) if i != 2 and np.random.choice([0, 1]) == 1]\n",
    "    translate = (random.uniform(-10, 10), random.uniform(-10, 10))\n",
    "    matrix = np.array([[1, 0, 0, translate[0]], [0, 1, 0, translate[1]], [0, 0, 1, 0], [0, 0, 0, 1]])\n",
    "\n",
    "    imgvol = np.array(image.dataobj)\n",
    "    lblvol = np.array(label.dataobj)\n",
    "\n",
    "    # Rotate\n",
    "    img = ndimage.rotate(imgvol, angle, reshape=False)\n",
    "    lbl = ndimage.rotate(lblvol, angle, reshape=False)\n",
    "\n",
    "    # Randomly flip the image and label along one or more axes, except for the z-axis\n",
    "    img = np.flip(img, axis=flip_axes)\n",
    "    lbl = np.flip(lbl, axis=flip_axes)\n",
    "\n",
    "    # Zoom\n",
    "    zoom_factor = random.uniform(0.8, 1.2)\n",
    "    img = ndimage.zoom(img, zoom_factor, order=1)\n",
    "    lbl = ndimage.zoom(lbl, zoom_factor, order=0)\n",
    "\n",
    "    # Translate\n",
    "    img = affine_transform(img, matrix, order=1)\n",
    "    lbl = affine_transform(lbl, matrix, order=0)\n",
    "\n",
    "    # Brightness\n",
    "    gamma = random.uniform(0.8, 1.2)\n",
    "    min_value = np.min(img)\n",
    "    img = img - min_value\n",
    "    img = adjust_gamma(img, gamma)\n",
    "\n",
    "    # Contrast\n",
    "    low = np.percentile(img, 10)\n",
    "    high = np.percentile(img, 98)\n",
    "    img = rescale_intensity(img, in_range=(low, high))\n",
    "\n",
    "    image = nib.Nifti1Image(img, image.affine)\n",
    "    label = nib.Nifti1Image(lbl, label.affine)\n",
    "    return image, label\n"
   ]
  },
  {
   "cell_type": "code",
   "execution_count": 10,
   "metadata": {},
   "outputs": [],
   "source": [
    "import scipy\n",
    "from scipy.ndimage import affine_transform\n",
    "\n",
    "def hFlipRotateShearTrans(image, label):\n",
    "    angle = random.uniform(-5, 5)\n",
    "    shear = random.uniform(-0.2,0.2)\n",
    "    translate = (random.uniform(-10,10), random.uniform(-10,10))\n",
    "\n",
    "    imgvol = np.array(image.dataobj)\n",
    "    lblvol = np.array(label.dataobj)\n",
    "\n",
    "    # Rotate\n",
    "    img = ndimage.rotate(imgvol, angle, reshape=False)\n",
    "    lbl = ndimage.rotate(lblvol, angle, reshape=False)\n",
    "\n",
    "    # horizontal flip\n",
    "    img = np.fliplr(img)\n",
    "    lbl = np.fliplr(lbl)\n",
    "\n",
    "\n",
    "    # apply shear transformation\n",
    "    matrix = np.array([[1, shear, 0, translate[0]], [0, 1, 0, translate[1]], [0, 0, 1, 0], [0, 0, 0, 1]])\n",
    "    img = affine_transform(img, matrix, order=1)\n",
    "    lbl = affine_transform(lbl, matrix, order=0)\n",
    "\n",
    "    image = nib.Nifti1Image(img, image.affine)\n",
    "    label = nib.Nifti1Image(lbl, label.affine)\n",
    "    return image, label"
   ]
  },
  {
   "cell_type": "code",
   "execution_count": 160,
   "metadata": {},
   "outputs": [],
   "source": [
    "import numpy as np\n",
    "import nibabel as nib\n",
    "import random\n",
    "import elasticdeform\n",
    "from scipy import ndimage\n",
    "\n",
    "def hFlipRotateTranslateElasticDeform(image, label):\n",
    "    angle = random.uniform(-5, 5)\n",
    "    shear = random.uniform(-0.2,0.2)\n",
    "    translate = (random.uniform(-10,10), random.uniform(-10,10))\n",
    "\n",
    "    imgvol = np.array(image.dataobj)\n",
    "    lblvol = np.array(label.dataobj)\n",
    "\n",
    "    # Rotate\n",
    "    img = ndimage.rotate(imgvol, angle, reshape=False)\n",
    "    lbl = ndimage.rotate(lblvol, angle, reshape=False)\n",
    "\n",
    "    # horizontal flip\n",
    "    img = np.fliplr(img)\n",
    "    lbl = np.fliplr(lbl)\n",
    "\n",
    "\n",
    "    # apply shear transformation\n",
    "    matrix = np.array([[1, shear, 0, translate[0]], [0, 1, 0, translate[1]], [0, 0, 1, 0], [0, 0, 0, 1]])\n",
    "    img = affine_transform(img, matrix, order=1)\n",
    "    lbl = affine_transform(lbl, matrix, order=0)\n",
    "\n",
    "    # Elastic deformation\n",
    "    sigma = random.choice([2, 3])\n",
    "    print(sigma)\n",
    "    # img_deformed = elasticdeform.deform_random_grid(img, sigma=sigma, order=3, axis=(0, 1, 2))\n",
    "    # lbl_deformed = elasticdeform.deform_random_grid(lbl, sigma=sigma, order=0, axis=(0, 1, 2))\n",
    "    [img_deformed, lbl_deformed] = elasticdeform.deform_random_grid([img, lbl], sigma=sigma, axis=[(0, 1), (0, 1)], order=[1, 0], mode='constant')\n",
    "    \n",
    "\n",
    "    image = nib.Nifti1Image(img_deformed, image.affine)\n",
    "    label = nib.Nifti1Image(lbl_deformed, label.affine)\n",
    "    return image, label\n"
   ]
  },
  {
   "cell_type": "code",
   "execution_count": 24,
   "metadata": {},
   "outputs": [],
   "source": [
    "from Augmentation.augmentation import changeContrast, vFlipRotate, hFlipRotate"
   ]
  },
  {
   "cell_type": "code",
   "execution_count": 40,
   "metadata": {},
   "outputs": [],
   "source": [
    "# first image, label from orignal image\n",
    "imagea =nib.load(data[0][\"image\"])\n",
    "labela =nib.load(data[0][\"label\"])\n",
    "\n",
    "imagea, labela = imagea.get_fdata(), labela.get_fdata()"
   ]
  },
  {
   "cell_type": "code",
   "execution_count": 32,
   "metadata": {},
   "outputs": [
    {
     "name": "stdout",
     "output_type": "stream",
     "text": [
      "(384, 384, 16) (384, 384, 16)\n"
     ]
    }
   ],
   "source": [
    "# first image, label from orignal image\n",
    "imagea =nib.load(data[0][\"image\"])\n",
    "labela =nib.load(data[0][\"label\"])\n",
    "print(imagea.shape,labela.shape)\n",
    "imagea, labela = random_flip_rotate_zoom_translate_brightness(imagea, labela)\n",
    "imagea, labela = imagea.get_fdata(), labela.get_fdata()"
   ]
  },
  {
   "cell_type": "code",
   "execution_count": 33,
   "metadata": {},
   "outputs": [],
   "source": [
    "# Define a function to visualize the data\n",
    "def explore_3dimage(layer):\n",
    "    plt.figure(figsize=(10, 5))\n",
    "    channel = 2\n",
    "    # plt.imshow(image11[0,0,:,:,layer], cmap='gray');\n",
    "    # plt.title('Explore Layers of Prostate MRI', fontsize=20)\n",
    "    # plt.axis('off')\n",
    "    fig, ax = plt.subplots(nrows=1, ncols=2, figsize=(10,5))\n",
    "\n",
    "    ax[0].imshow(imagea[:,:,layer], cmap='gray')\n",
    "    ax[0].set_title(f\"Image\", fontsize=15)\n",
    "    ax[0].axis('off');\n",
    "\n",
    "    ax[1].imshow(labela[:,:,layer])\n",
    "    ax[1].axis('off');\n",
    "    return layer"
   ]
  },
  {
   "cell_type": "code",
   "execution_count": 34,
   "metadata": {},
   "outputs": [
    {
     "data": {
      "application/vnd.jupyter.widget-view+json": {
       "model_id": "dbf88925314f48e285bfda6128cf58e7",
       "version_major": 2,
       "version_minor": 0
      },
      "text/plain": [
       "interactive(children=(IntSlider(value=7, description='layer', max=15), Output()), _dom_classes=('widget-intera…"
      ]
     },
     "metadata": {},
     "output_type": "display_data"
    },
    {
     "data": {
      "text/plain": [
       "<function __main__.explore_3dimage(layer)>"
      ]
     },
     "execution_count": 34,
     "metadata": {},
     "output_type": "execute_result"
    }
   ],
   "source": [
    "# Explore the preprocessed image, label\n",
    "interact(explore_3dimage, layer=(0, 15))"
   ]
  },
  {
   "cell_type": "code",
   "execution_count": 16,
   "metadata": {},
   "outputs": [],
   "source": [
    "# first image, label from orignal image\n",
    "image =nib.load(data[0][\"image\"])\n",
    "label =nib.load(data[0][\"label\"])\n",
    "\n",
    "image, label = image.get_fdata(), label.get_fdata()"
   ]
  },
  {
   "cell_type": "code",
   "execution_count": 17,
   "metadata": {},
   "outputs": [],
   "source": [
    "# Define a function to visualize the data\n",
    "def explore_3dimage(layer):\n",
    "    plt.figure(figsize=(10, 5))\n",
    "    channel = 2\n",
    "    # plt.imshow(image11[0,0,:,:,layer], cmap='gray');\n",
    "    # plt.title('Explore Layers of Prostate MRI', fontsize=20)\n",
    "    # plt.axis('off')\n",
    "    fig, ax = plt.subplots(nrows=1, ncols=2, figsize=(10,5))\n",
    "\n",
    "    ax[0].imshow(image[:,:,layer], cmap='gray')\n",
    "    ax[0].set_title(f\"Image\", fontsize=15)\n",
    "    ax[0].axis('off')\n",
    "\n",
    "    ax[1].imshow(label[:,:,layer])\n",
    "    ax[1].axis('off')\n",
    "    return layer"
   ]
  },
  {
   "cell_type": "code",
   "execution_count": 18,
   "metadata": {},
   "outputs": [
    {
     "data": {
      "application/vnd.jupyter.widget-view+json": {
       "model_id": "b0034d68d18f42a79dad9485eeca7d54",
       "version_major": 2,
       "version_minor": 0
      },
      "text/plain": [
       "interactive(children=(IntSlider(value=7, description='layer', max=15), Output()), _dom_classes=('widget-intera…"
      ]
     },
     "metadata": {},
     "output_type": "display_data"
    },
    {
     "data": {
      "text/plain": [
       "<function __main__.explore_3dimage(layer)>"
      ]
     },
     "execution_count": 18,
     "metadata": {},
     "output_type": "execute_result"
    }
   ],
   "source": [
    "# Explore the preprocessed image, label\n",
    "interact(explore_3dimage, layer=(0, 15))"
   ]
  }
 ],
 "metadata": {
  "kernelspec": {
   "display_name": "packages",
   "language": "python",
   "name": "python3"
  },
  "language_info": {
   "codemirror_mode": {
    "name": "ipython",
    "version": 3
   },
   "file_extension": ".py",
   "mimetype": "text/x-python",
   "name": "python",
   "nbconvert_exporter": "python",
   "pygments_lexer": "ipython3",
   "version": "3.10.4"
  },
  "orig_nbformat": 4
 },
 "nbformat": 4,
 "nbformat_minor": 2
}
