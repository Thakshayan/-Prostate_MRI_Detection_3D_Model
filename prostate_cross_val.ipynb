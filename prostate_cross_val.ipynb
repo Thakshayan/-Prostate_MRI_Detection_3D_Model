{
  "cells": [
    {
      "cell_type": "markdown",
      "metadata": {
        "colab_type": "toc",
        "id": "M-G90BO8qVYS"
      },
      "source": [
        ">[Load in Colab](#scrollTo=lm-MDLOPmwBa)\n",
        "\n",
        ">[Initiate](#scrollTo=9OBnxzC1m1tc)\n",
        "\n",
        ">[Prostate](#scrollTo=PQ2l2jDef9MT)\n",
        "\n",
        ">[Create Cross folds](#scrollTo=q-fTOxiBZcm7)\n",
        "\n",
        ">[Train](#scrollTo=dEO65i01p-bt)\n",
        "\n",
        ">>[Train Functions](#scrollTo=zDtjJeVkBQGd)\n",
        "\n",
        ">>[UNET](#scrollTo=nUQFtc_GoE0s)\n",
        "\n",
        ">>[MNet](#scrollTo=vwW3vyUBoQAK)\n",
        "\n",
        ">>[UNet3+](#scrollTo=8ADLHu-Y3l80)\n",
        "\n"
      ]
    },
    {
      "cell_type": "markdown",
      "metadata": {
        "id": "lm-MDLOPmwBa"
      },
      "source": [
        "# Load in Colab"
      ]
    },
    {
      "cell_type": "code",
      "execution_count": null,
      "metadata": {
        "colab": {
          "base_uri": "https://localhost:8080/"
        },
        "id": "qdbJEvG_OyVI",
        "outputId": "645bfbe4-0eeb-455b-9bed-7bd0ced198db"
      },
      "outputs": [
        {
          "name": "stdout",
          "output_type": "stream",
          "text": [
            "Mounted at /content/drive\n"
          ]
        }
      ],
      "source": [
        "from google.colab import drive\n",
        "drive.mount('/content/drive')\n"
      ]
    },
    {
      "cell_type": "code",
      "execution_count": null,
      "metadata": {
        "colab": {
          "base_uri": "https://localhost:8080/"
        },
        "id": "nXGJeEMPBjsm",
        "outputId": "86c3182e-67d3-45b1-ccb9-1bf9a60aac2b"
      },
      "outputs": [
        {
          "name": "stdout",
          "output_type": "stream",
          "text": [
            "/content/drive/.shortcut-targets-by-id/1M9aI1YrZCaL02OMqJ9ARGXDyTFCPluNH/Prostate_MRI_Detection_3D_Model\n"
          ]
        }
      ],
      "source": [
        "%cd \"/content/drive/MyDrive/Prostate_MRI_Detection_3D_Model\""
      ]
    },
    {
      "cell_type": "code",
      "execution_count": null,
      "metadata": {
        "colab": {
          "base_uri": "https://localhost:8080/"
        },
        "id": "qNbBCJX1ec-O",
        "outputId": "25e428f2-d5ac-42ba-a10b-dd66871ab7ba"
      },
      "outputs": [
        {
          "name": "stdout",
          "output_type": "stream",
          "text": [
            "Looking in indexes: https://pypi.org/simple, https://us-python.pkg.dev/colab-wheels/public/simple/\n",
            "Collecting dicom2nifti\n",
            "  Downloading dicom2nifti-2.4.8-py3-none-any.whl (43 kB)\n",
            "\u001b[2K     \u001b[90m━━━━━━━━━━━━━━━━━━━━━━━━━━━━━━━━━━━━━━━━\u001b[0m \u001b[32m43.6/43.6 kB\u001b[0m \u001b[31m3.1 MB/s\u001b[0m eta \u001b[36m0:00:00\u001b[0m\n",
            "\u001b[?25hCollecting monai\n",
            "  Downloading monai-1.1.0-202212191849-py3-none-any.whl (1.2 MB)\n",
            "\u001b[2K     \u001b[90m━━━━━━━━━━━━━━━━━━━━━━━━━━━━━━━━━━━━━━━━\u001b[0m \u001b[32m1.2/1.2 MB\u001b[0m \u001b[31m46.4 MB/s\u001b[0m eta \u001b[36m0:00:00\u001b[0m\n",
            "\u001b[?25hRequirement already satisfied: pandas in /usr/local/lib/python3.9/dist-packages (from -r requirement.txt (line 3)) (1.5.3)\n",
            "Requirement already satisfied: tqdm in /usr/local/lib/python3.9/dist-packages (from -r requirement.txt (line 4)) (4.65.0)\n",
            "Requirement already satisfied: matplotlib in /usr/local/lib/python3.9/dist-packages (from -r requirement.txt (line 5)) (3.7.1)\n",
            "Requirement already satisfied: ipywidgets in /usr/local/lib/python3.9/dist-packages (from -r requirement.txt (line 6)) (7.7.1)\n",
            "Collecting elasticdeform\n",
            "  Downloading elasticdeform-0.5.0-cp39-cp39-manylinux_2_17_x86_64.manylinux2014_x86_64.whl (91 kB)\n",
            "\u001b[2K     \u001b[90m━━━━━━━━━━━━━━━━━━━━━━━━━━━━━━━━━━━━━━━━\u001b[0m \u001b[32m91.3/91.3 kB\u001b[0m \u001b[31m14.3 MB/s\u001b[0m eta \u001b[36m0:00:00\u001b[0m\n",
            "\u001b[?25hRequirement already satisfied: scikit-image in /usr/local/lib/python3.9/dist-packages (from -r requirement.txt (line 8)) (0.19.3)\n",
            "Collecting torchmetrics\n",
            "  Downloading torchmetrics-0.11.4-py3-none-any.whl (519 kB)\n",
            "\u001b[2K     \u001b[90m━━━━━━━━━━━━━━━━━━━━━━━━━━━━━━━━━━━━━━\u001b[0m \u001b[32m519.2/519.2 kB\u001b[0m \u001b[31m50.7 MB/s\u001b[0m eta \u001b[36m0:00:00\u001b[0m\n",
            "\u001b[?25hRequirement already satisfied: scipy in /usr/local/lib/python3.9/dist-packages (from dicom2nifti->-r requirement.txt (line 1)) (1.10.1)\n",
            "Requirement already satisfied: nibabel in /usr/local/lib/python3.9/dist-packages (from dicom2nifti->-r requirement.txt (line 1)) (3.0.2)\n",
            "Requirement already satisfied: numpy in /usr/local/lib/python3.9/dist-packages (from dicom2nifti->-r requirement.txt (line 1)) (1.22.4)\n",
            "Collecting pydicom>=2.2.0\n",
            "  Downloading pydicom-2.3.1-py3-none-any.whl (2.0 MB)\n",
            "\u001b[2K     \u001b[90m━━━━━━━━━━━━━━━━━━━━━━━━━━━━━━━━━━━━━━━━\u001b[0m \u001b[32m2.0/2.0 MB\u001b[0m \u001b[31m93.9 MB/s\u001b[0m eta \u001b[36m0:00:00\u001b[0m\n",
            "\u001b[?25hCollecting python-gdcm\n",
            "  Downloading python_gdcm-3.0.21-cp39-cp39-manylinux_2_17_x86_64.manylinux2014_x86_64.whl (13.0 MB)\n",
            "\u001b[2K     \u001b[90m━━━━━━━━━━━━━━━━━━━━━━━━━━━━━━━━━━━━━━━━\u001b[0m \u001b[32m13.0/13.0 MB\u001b[0m \u001b[31m95.1 MB/s\u001b[0m eta \u001b[36m0:00:00\u001b[0m\n",
            "\u001b[?25hRequirement already satisfied: torch>=1.8 in /usr/local/lib/python3.9/dist-packages (from monai->-r requirement.txt (line 2)) (2.0.0+cu118)\n",
            "Requirement already satisfied: python-dateutil>=2.8.1 in /usr/local/lib/python3.9/dist-packages (from pandas->-r requirement.txt (line 3)) (2.8.2)\n",
            "Requirement already satisfied: pytz>=2020.1 in /usr/local/lib/python3.9/dist-packages (from pandas->-r requirement.txt (line 3)) (2022.7.1)\n",
            "Requirement already satisfied: cycler>=0.10 in /usr/local/lib/python3.9/dist-packages (from matplotlib->-r requirement.txt (line 5)) (0.11.0)\n",
            "Requirement already satisfied: packaging>=20.0 in /usr/local/lib/python3.9/dist-packages (from matplotlib->-r requirement.txt (line 5)) (23.0)\n",
            "Requirement already satisfied: pillow>=6.2.0 in /usr/local/lib/python3.9/dist-packages (from matplotlib->-r requirement.txt (line 5)) (8.4.0)\n",
            "Requirement already satisfied: pyparsing>=2.3.1 in /usr/local/lib/python3.9/dist-packages (from matplotlib->-r requirement.txt (line 5)) (3.0.9)\n",
            "Requirement already satisfied: kiwisolver>=1.0.1 in /usr/local/lib/python3.9/dist-packages (from matplotlib->-r requirement.txt (line 5)) (1.4.4)\n",
            "Requirement already satisfied: importlib-resources>=3.2.0 in /usr/local/lib/python3.9/dist-packages (from matplotlib->-r requirement.txt (line 5)) (5.12.0)\n",
            "Requirement already satisfied: contourpy>=1.0.1 in /usr/local/lib/python3.9/dist-packages (from matplotlib->-r requirement.txt (line 5)) (1.0.7)\n",
            "Requirement already satisfied: fonttools>=4.22.0 in /usr/local/lib/python3.9/dist-packages (from matplotlib->-r requirement.txt (line 5)) (4.39.3)\n",
            "Requirement already satisfied: jupyterlab-widgets>=1.0.0 in /usr/local/lib/python3.9/dist-packages (from ipywidgets->-r requirement.txt (line 6)) (3.0.7)\n",
            "Requirement already satisfied: traitlets>=4.3.1 in /usr/local/lib/python3.9/dist-packages (from ipywidgets->-r requirement.txt (line 6)) (5.7.1)\n",
            "Requirement already satisfied: ipython-genutils~=0.2.0 in /usr/local/lib/python3.9/dist-packages (from ipywidgets->-r requirement.txt (line 6)) (0.2.0)\n",
            "Requirement already satisfied: ipython>=4.0.0 in /usr/local/lib/python3.9/dist-packages (from ipywidgets->-r requirement.txt (line 6)) (7.34.0)\n",
            "Requirement already satisfied: widgetsnbextension~=3.6.0 in /usr/local/lib/python3.9/dist-packages (from ipywidgets->-r requirement.txt (line 6)) (3.6.4)\n",
            "Requirement already satisfied: ipykernel>=4.5.1 in /usr/local/lib/python3.9/dist-packages (from ipywidgets->-r requirement.txt (line 6)) (5.5.6)\n",
            "Requirement already satisfied: PyWavelets>=1.1.1 in /usr/local/lib/python3.9/dist-packages (from scikit-image->-r requirement.txt (line 8)) (1.4.1)\n",
            "Requirement already satisfied: tifffile>=2019.7.26 in /usr/local/lib/python3.9/dist-packages (from scikit-image->-r requirement.txt (line 8)) (2023.3.21)\n",
            "Requirement already satisfied: networkx>=2.2 in /usr/local/lib/python3.9/dist-packages (from scikit-image->-r requirement.txt (line 8)) (3.1)\n",
            "Requirement already satisfied: imageio>=2.4.1 in /usr/local/lib/python3.9/dist-packages (from scikit-image->-r requirement.txt (line 8)) (2.25.1)\n",
            "Requirement already satisfied: zipp>=3.1.0 in /usr/local/lib/python3.9/dist-packages (from importlib-resources>=3.2.0->matplotlib->-r requirement.txt (line 5)) (3.15.0)\n",
            "Requirement already satisfied: tornado>=4.2 in /usr/local/lib/python3.9/dist-packages (from ipykernel>=4.5.1->ipywidgets->-r requirement.txt (line 6)) (6.2)\n",
            "Requirement already satisfied: jupyter-client in /usr/local/lib/python3.9/dist-packages (from ipykernel>=4.5.1->ipywidgets->-r requirement.txt (line 6)) (6.1.12)\n",
            "Requirement already satisfied: pygments in /usr/local/lib/python3.9/dist-packages (from ipython>=4.0.0->ipywidgets->-r requirement.txt (line 6)) (2.14.0)\n",
            "Requirement already satisfied: prompt-toolkit!=3.0.0,!=3.0.1,<3.1.0,>=2.0.0 in /usr/local/lib/python3.9/dist-packages (from ipython>=4.0.0->ipywidgets->-r requirement.txt (line 6)) (3.0.38)\n",
            "Requirement already satisfied: decorator in /usr/local/lib/python3.9/dist-packages (from ipython>=4.0.0->ipywidgets->-r requirement.txt (line 6)) (4.4.2)\n",
            "Requirement already satisfied: pickleshare in /usr/local/lib/python3.9/dist-packages (from ipython>=4.0.0->ipywidgets->-r requirement.txt (line 6)) (0.7.5)\n",
            "Collecting jedi>=0.16\n",
            "  Downloading jedi-0.18.2-py2.py3-none-any.whl (1.6 MB)\n",
            "\u001b[2K     \u001b[90m━━━━━━━━━━━━━━━━━━━━━━━━━━━━━━━━━━━━━━━━\u001b[0m \u001b[32m1.6/1.6 MB\u001b[0m \u001b[31m85.8 MB/s\u001b[0m eta \u001b[36m0:00:00\u001b[0m\n",
            "\u001b[?25hRequirement already satisfied: backcall in /usr/local/lib/python3.9/dist-packages (from ipython>=4.0.0->ipywidgets->-r requirement.txt (line 6)) (0.2.0)\n",
            "Requirement already satisfied: matplotlib-inline in /usr/local/lib/python3.9/dist-packages (from ipython>=4.0.0->ipywidgets->-r requirement.txt (line 6)) (0.1.6)\n",
            "Requirement already satisfied: pexpect>4.3 in /usr/local/lib/python3.9/dist-packages (from ipython>=4.0.0->ipywidgets->-r requirement.txt (line 6)) (4.8.0)\n",
            "Requirement already satisfied: setuptools>=18.5 in /usr/local/lib/python3.9/dist-packages (from ipython>=4.0.0->ipywidgets->-r requirement.txt (line 6)) (67.6.1)\n",
            "Requirement already satisfied: six>=1.5 in /usr/local/lib/python3.9/dist-packages (from python-dateutil>=2.8.1->pandas->-r requirement.txt (line 3)) (1.16.0)\n",
            "Requirement already satisfied: filelock in /usr/local/lib/python3.9/dist-packages (from torch>=1.8->monai->-r requirement.txt (line 2)) (3.11.0)\n",
            "Requirement already satisfied: jinja2 in /usr/local/lib/python3.9/dist-packages (from torch>=1.8->monai->-r requirement.txt (line 2)) (3.1.2)\n",
            "Requirement already satisfied: triton==2.0.0 in /usr/local/lib/python3.9/dist-packages (from torch>=1.8->monai->-r requirement.txt (line 2)) (2.0.0)\n",
            "Requirement already satisfied: sympy in /usr/local/lib/python3.9/dist-packages (from torch>=1.8->monai->-r requirement.txt (line 2)) (1.11.1)\n",
            "Requirement already satisfied: typing-extensions in /usr/local/lib/python3.9/dist-packages (from torch>=1.8->monai->-r requirement.txt (line 2)) (4.5.0)\n",
            "Requirement already satisfied: cmake in /usr/local/lib/python3.9/dist-packages (from triton==2.0.0->torch>=1.8->monai->-r requirement.txt (line 2)) (3.25.2)\n",
            "Requirement already satisfied: lit in /usr/local/lib/python3.9/dist-packages (from triton==2.0.0->torch>=1.8->monai->-r requirement.txt (line 2)) (16.0.1)\n",
            "Requirement already satisfied: notebook>=4.4.1 in /usr/local/lib/python3.9/dist-packages (from widgetsnbextension~=3.6.0->ipywidgets->-r requirement.txt (line 6)) (6.4.8)\n",
            "Requirement already satisfied: parso<0.9.0,>=0.8.0 in /usr/local/lib/python3.9/dist-packages (from jedi>=0.16->ipython>=4.0.0->ipywidgets->-r requirement.txt (line 6)) (0.8.3)\n",
            "Requirement already satisfied: nbconvert in /usr/local/lib/python3.9/dist-packages (from notebook>=4.4.1->widgetsnbextension~=3.6.0->ipywidgets->-r requirement.txt (line 6)) (6.5.4)\n",
            "Requirement already satisfied: nest-asyncio>=1.5 in /usr/local/lib/python3.9/dist-packages (from notebook>=4.4.1->widgetsnbextension~=3.6.0->ipywidgets->-r requirement.txt (line 6)) (1.5.6)\n",
            "Requirement already satisfied: prometheus-client in /usr/local/lib/python3.9/dist-packages (from notebook>=4.4.1->widgetsnbextension~=3.6.0->ipywidgets->-r requirement.txt (line 6)) (0.16.0)\n",
            "Requirement already satisfied: jupyter-core>=4.6.1 in /usr/local/lib/python3.9/dist-packages (from notebook>=4.4.1->widgetsnbextension~=3.6.0->ipywidgets->-r requirement.txt (line 6)) (5.3.0)\n",
            "Requirement already satisfied: pyzmq>=17 in /usr/local/lib/python3.9/dist-packages (from notebook>=4.4.1->widgetsnbextension~=3.6.0->ipywidgets->-r requirement.txt (line 6)) (23.2.1)\n",
            "Requirement already satisfied: Send2Trash>=1.8.0 in /usr/local/lib/python3.9/dist-packages (from notebook>=4.4.1->widgetsnbextension~=3.6.0->ipywidgets->-r requirement.txt (line 6)) (1.8.0)\n",
            "Requirement already satisfied: argon2-cffi in /usr/local/lib/python3.9/dist-packages (from notebook>=4.4.1->widgetsnbextension~=3.6.0->ipywidgets->-r requirement.txt (line 6)) (21.3.0)\n",
            "Requirement already satisfied: terminado>=0.8.3 in /usr/local/lib/python3.9/dist-packages (from notebook>=4.4.1->widgetsnbextension~=3.6.0->ipywidgets->-r requirement.txt (line 6)) (0.17.1)\n",
            "Requirement already satisfied: nbformat in /usr/local/lib/python3.9/dist-packages (from notebook>=4.4.1->widgetsnbextension~=3.6.0->ipywidgets->-r requirement.txt (line 6)) (5.8.0)\n",
            "Requirement already satisfied: ptyprocess>=0.5 in /usr/local/lib/python3.9/dist-packages (from pexpect>4.3->ipython>=4.0.0->ipywidgets->-r requirement.txt (line 6)) (0.7.0)\n",
            "Requirement already satisfied: wcwidth in /usr/local/lib/python3.9/dist-packages (from prompt-toolkit!=3.0.0,!=3.0.1,<3.1.0,>=2.0.0->ipython>=4.0.0->ipywidgets->-r requirement.txt (line 6)) (0.2.6)\n",
            "Requirement already satisfied: MarkupSafe>=2.0 in /usr/local/lib/python3.9/dist-packages (from jinja2->torch>=1.8->monai->-r requirement.txt (line 2)) (2.1.2)\n",
            "Requirement already satisfied: mpmath>=0.19 in /usr/local/lib/python3.9/dist-packages (from sympy->torch>=1.8->monai->-r requirement.txt (line 2)) (1.3.0)\n",
            "Requirement already satisfied: platformdirs>=2.5 in /usr/local/lib/python3.9/dist-packages (from jupyter-core>=4.6.1->notebook>=4.4.1->widgetsnbextension~=3.6.0->ipywidgets->-r requirement.txt (line 6)) (3.2.0)\n",
            "Requirement already satisfied: argon2-cffi-bindings in /usr/local/lib/python3.9/dist-packages (from argon2-cffi->notebook>=4.4.1->widgetsnbextension~=3.6.0->ipywidgets->-r requirement.txt (line 6)) (21.2.0)\n",
            "Requirement already satisfied: beautifulsoup4 in /usr/local/lib/python3.9/dist-packages (from nbconvert->notebook>=4.4.1->widgetsnbextension~=3.6.0->ipywidgets->-r requirement.txt (line 6)) (4.11.2)\n",
            "Requirement already satisfied: jupyterlab-pygments in /usr/local/lib/python3.9/dist-packages (from nbconvert->notebook>=4.4.1->widgetsnbextension~=3.6.0->ipywidgets->-r requirement.txt (line 6)) (0.2.2)\n",
            "Requirement already satisfied: defusedxml in /usr/local/lib/python3.9/dist-packages (from nbconvert->notebook>=4.4.1->widgetsnbextension~=3.6.0->ipywidgets->-r requirement.txt (line 6)) (0.7.1)\n",
            "Requirement already satisfied: pandocfilters>=1.4.1 in /usr/local/lib/python3.9/dist-packages (from nbconvert->notebook>=4.4.1->widgetsnbextension~=3.6.0->ipywidgets->-r requirement.txt (line 6)) (1.5.0)\n",
            "Requirement already satisfied: entrypoints>=0.2.2 in /usr/local/lib/python3.9/dist-packages (from nbconvert->notebook>=4.4.1->widgetsnbextension~=3.6.0->ipywidgets->-r requirement.txt (line 6)) (0.4)\n",
            "Requirement already satisfied: tinycss2 in /usr/local/lib/python3.9/dist-packages (from nbconvert->notebook>=4.4.1->widgetsnbextension~=3.6.0->ipywidgets->-r requirement.txt (line 6)) (1.2.1)\n",
            "Requirement already satisfied: bleach in /usr/local/lib/python3.9/dist-packages (from nbconvert->notebook>=4.4.1->widgetsnbextension~=3.6.0->ipywidgets->-r requirement.txt (line 6)) (6.0.0)\n",
            "Requirement already satisfied: mistune<2,>=0.8.1 in /usr/local/lib/python3.9/dist-packages (from nbconvert->notebook>=4.4.1->widgetsnbextension~=3.6.0->ipywidgets->-r requirement.txt (line 6)) (0.8.4)\n",
            "Requirement already satisfied: lxml in /usr/local/lib/python3.9/dist-packages (from nbconvert->notebook>=4.4.1->widgetsnbextension~=3.6.0->ipywidgets->-r requirement.txt (line 6)) (4.9.2)\n",
            "Requirement already satisfied: nbclient>=0.5.0 in /usr/local/lib/python3.9/dist-packages (from nbconvert->notebook>=4.4.1->widgetsnbextension~=3.6.0->ipywidgets->-r requirement.txt (line 6)) (0.7.3)\n",
            "Requirement already satisfied: fastjsonschema in /usr/local/lib/python3.9/dist-packages (from nbformat->notebook>=4.4.1->widgetsnbextension~=3.6.0->ipywidgets->-r requirement.txt (line 6)) (2.16.3)\n",
            "Requirement already satisfied: jsonschema>=2.6 in /usr/local/lib/python3.9/dist-packages (from nbformat->notebook>=4.4.1->widgetsnbextension~=3.6.0->ipywidgets->-r requirement.txt (line 6)) (4.3.3)\n",
            "Requirement already satisfied: attrs>=17.4.0 in /usr/local/lib/python3.9/dist-packages (from jsonschema>=2.6->nbformat->notebook>=4.4.1->widgetsnbextension~=3.6.0->ipywidgets->-r requirement.txt (line 6)) (22.2.0)\n",
            "Requirement already satisfied: pyrsistent!=0.17.0,!=0.17.1,!=0.17.2,>=0.14.0 in /usr/local/lib/python3.9/dist-packages (from jsonschema>=2.6->nbformat->notebook>=4.4.1->widgetsnbextension~=3.6.0->ipywidgets->-r requirement.txt (line 6)) (0.19.3)\n",
            "Requirement already satisfied: cffi>=1.0.1 in /usr/local/lib/python3.9/dist-packages (from argon2-cffi-bindings->argon2-cffi->notebook>=4.4.1->widgetsnbextension~=3.6.0->ipywidgets->-r requirement.txt (line 6)) (1.15.1)\n",
            "Requirement already satisfied: soupsieve>1.2 in /usr/local/lib/python3.9/dist-packages (from beautifulsoup4->nbconvert->notebook>=4.4.1->widgetsnbextension~=3.6.0->ipywidgets->-r requirement.txt (line 6)) (2.4)\n",
            "Requirement already satisfied: webencodings in /usr/local/lib/python3.9/dist-packages (from bleach->nbconvert->notebook>=4.4.1->widgetsnbextension~=3.6.0->ipywidgets->-r requirement.txt (line 6)) (0.5.1)\n",
            "Requirement already satisfied: pycparser in /usr/local/lib/python3.9/dist-packages (from cffi>=1.0.1->argon2-cffi-bindings->argon2-cffi->notebook>=4.4.1->widgetsnbextension~=3.6.0->ipywidgets->-r requirement.txt (line 6)) (2.21)\n",
            "Installing collected packages: python-gdcm, pydicom, jedi, elasticdeform, dicom2nifti, torchmetrics, monai\n",
            "Successfully installed dicom2nifti-2.4.8 elasticdeform-0.5.0 jedi-0.18.2 monai-1.1.0 pydicom-2.3.1 python-gdcm-3.0.21 torchmetrics-0.11.4\n",
            "Looking in indexes: https://pypi.org/simple, https://us-python.pkg.dev/colab-wheels/public/simple/\n",
            "Requirement already satisfied: monai in /usr/local/lib/python3.9/dist-packages (1.1.0)\n",
            "Requirement already satisfied: torch>=1.8 in /usr/local/lib/python3.9/dist-packages (from monai) (2.0.0+cu118)\n",
            "Requirement already satisfied: numpy>=1.17 in /usr/local/lib/python3.9/dist-packages (from monai) (1.22.4)\n",
            "Requirement already satisfied: sympy in /usr/local/lib/python3.9/dist-packages (from torch>=1.8->monai) (1.11.1)\n",
            "Requirement already satisfied: networkx in /usr/local/lib/python3.9/dist-packages (from torch>=1.8->monai) (3.1)\n",
            "Requirement already satisfied: typing-extensions in /usr/local/lib/python3.9/dist-packages (from torch>=1.8->monai) (4.5.0)\n",
            "Requirement already satisfied: filelock in /usr/local/lib/python3.9/dist-packages (from torch>=1.8->monai) (3.11.0)\n",
            "Requirement already satisfied: jinja2 in /usr/local/lib/python3.9/dist-packages (from torch>=1.8->monai) (3.1.2)\n",
            "Requirement already satisfied: triton==2.0.0 in /usr/local/lib/python3.9/dist-packages (from torch>=1.8->monai) (2.0.0)\n",
            "Requirement already satisfied: lit in /usr/local/lib/python3.9/dist-packages (from triton==2.0.0->torch>=1.8->monai) (16.0.1)\n",
            "Requirement already satisfied: cmake in /usr/local/lib/python3.9/dist-packages (from triton==2.0.0->torch>=1.8->monai) (3.25.2)\n",
            "Requirement already satisfied: MarkupSafe>=2.0 in /usr/local/lib/python3.9/dist-packages (from jinja2->torch>=1.8->monai) (2.1.2)\n",
            "Requirement already satisfied: mpmath>=0.19 in /usr/local/lib/python3.9/dist-packages (from sympy->torch>=1.8->monai) (1.3.0)\n",
            "Looking in indexes: https://pypi.org/simple, https://us-python.pkg.dev/colab-wheels/public/simple/\n",
            "Requirement already satisfied: dicom2nifti in /usr/local/lib/python3.9/dist-packages (2.4.8)\n",
            "Requirement already satisfied: numpy in /usr/local/lib/python3.9/dist-packages (from dicom2nifti) (1.22.4)\n",
            "Requirement already satisfied: scipy in /usr/local/lib/python3.9/dist-packages (from dicom2nifti) (1.10.1)\n",
            "Requirement already satisfied: nibabel in /usr/local/lib/python3.9/dist-packages (from dicom2nifti) (3.0.2)\n",
            "Requirement already satisfied: pydicom>=2.2.0 in /usr/local/lib/python3.9/dist-packages (from dicom2nifti) (2.3.1)\n",
            "Requirement already satisfied: python-gdcm in /usr/local/lib/python3.9/dist-packages (from dicom2nifti) (3.0.21)\n"
          ]
        }
      ],
      "source": [
        "!pip install -r requirement.txt\n",
        "!pip install monai\n",
        "!pip install dicom2nifti"
      ]
    },
    {
      "cell_type": "markdown",
      "metadata": {
        "id": "9OBnxzC1m1tc"
      },
      "source": [
        "# Initiate"
      ]
    },
    {
      "cell_type": "code",
      "execution_count": 22,
      "metadata": {
        "id": "7Bdt8J7TOxAw"
      },
      "outputs": [],
      "source": [
        "#prostate\n",
        "HOME_DIR =       \"./\"\n",
        "DATA_DIR =       \"./PROSTATEx_masks/Files/prostate/\"\n",
        "OUT_DIR =        \"./cross_results/prostate/\"\n",
        "SLICED_OUT_DIR = \"./data/sliced/prostate/\"\n",
        "#AUG_OUT_DIR = \"./data/augmented_test/prostate/\"\n",
        "FOLD_DIR = \"./cross/prostate/\""
      ]
    },
    {
      "cell_type": "code",
      "execution_count": 23,
      "metadata": {
        "id": "I5cxT2kOOxAz"
      },
      "outputs": [],
      "source": [
        "import os\n",
        "from glob import glob\n",
        "import shutil\n",
        "from tqdm import tqdm\n",
        "import dicom2nifti\n",
        "import numpy as np\n",
        "import nibabel as nib\n",
        "import pandas as pd\n",
        "from monai.utils import first\n",
        "\n",
        "import json\n",
        "import matplotlib.pyplot as plt\n",
        "%matplotlib inline\n",
        "from ipywidgets import interact, interactive, IntSlider, ToggleButtons\n",
        "import os"
      ]
    },
    {
      "cell_type": "code",
      "execution_count": 24,
      "metadata": {
        "id": "XtZ2haTKy6Cy"
      },
      "outputs": [],
      "source": [
        "import torch\n",
        "import nibabel as nib\n",
        "\n",
        "import elasticdeform \n",
        "from skimage.util import random_noise\n",
        "import scipy\n",
        "from scipy.ndimage import affine_transform\n",
        "\n",
        "import torchvision.transforms.functional as TF\n",
        "import nibabel as nib\n",
        "#import torchio as tio\n",
        "\n",
        "import numpy as np\n",
        "from scipy import ndimage\n",
        "from scipy.ndimage import shift\n",
        "import random"
      ]
    },
    {
      "cell_type": "code",
      "execution_count": 25,
      "metadata": {
        "id": "x6RQNNAP1gMC"
      },
      "outputs": [],
      "source": [
        "from monai.utils import first\n",
        "import matplotlib.pyplot as plt\n",
        "import torch\n",
        "import os\n",
        "import numpy as np\n",
        "from monai.losses import DiceLoss\n",
        "from tqdm import tqdm\n",
        "from utils.train import train"
      ]
    },
    {
      "cell_type": "code",
      "execution_count": null,
      "metadata": {},
      "outputs": [],
      "source": [
        "import torch\n",
        "from monai.losses import TverskyLoss\n",
        "from torch.optim import Adam\n",
        "\n",
        "alpha = 0.5  # Tversky alpha hyperparameter\n",
        "beta = 0.5  # Tversky beta hyperparameter\n",
        "smooth_dr = 1e-5  # Smoothing factor to avoid division by zero\n",
        "\n",
        "# Define a custom TverskyLoss function that handles boolean tensor\n",
        "class CustomTverskyLoss(TverskyLoss):\n",
        "    def forward(self, y_pred, y_true):\n",
        "        # Convert boolean tensor to float before passing it to parent class\n",
        "        y_true_float = y_true.float()\n",
        "        return super(CustomTverskyLoss, self).forward(y_pred, y_true_float)\n",
        "\n"
      ]
    },
    {
      "cell_type": "markdown",
      "metadata": {
        "id": "PQ2l2jDef9MT"
      },
      "source": [
        "# Prostate \n",
        "Create 16 images \n",
        "need to run if data/sliced images aren't available"
      ]
    },
    {
      "cell_type": "code",
      "execution_count": null,
      "metadata": {
        "colab": {
          "background_save": true
        },
        "id": "IORwwTsBOxA2"
      },
      "outputs": [],
      "source": [
        "def get_data_path(path):\n",
        "  f = open( path + 'config.json')\n",
        "  jdata = json.load(f)\n",
        "  f.close()\n",
        "  return jdata[\"path\"]"
      ]
    },
    {
      "cell_type": "code",
      "execution_count": null,
      "metadata": {
        "id": "4rWc4SbgvPsF"
      },
      "outputs": [],
      "source": [
        "# create directries if does not exist\n",
        "if not os.path.exists(SLICED_OUT_DIR):\n",
        "    os.makedirs(SLICED_OUT_DIR)\n",
        "if not os.path.exists(SLICED_OUT_DIR + \"Images\"):\n",
        "    os.makedirs(SLICED_OUT_DIR + \"Images\")\n",
        "if not os.path.exists(SLICED_OUT_DIR + \"mask_prostate\"):\n",
        "    os.makedirs(SLICED_OUT_DIR + \"mask_prostate\")"
      ]
    },
    {
      "cell_type": "code",
      "execution_count": null,
      "metadata": {
        "id": "NTdrMrPBvbJu"
      },
      "outputs": [],
      "source": [
        "def makeLabelNo(name):\n",
        "  numb= name.split(\"-\")[1]\n",
        "  li=[80,81,83,85,86,87,88,89,90,91,93,96,98,125,127]\n",
        "  if(int(numb) in li):\n",
        "    return 'ProstateX-' + numb[1:]\n",
        "  return name"
      ]
    },
    {
      "cell_type": "code",
      "execution_count": null,
      "metadata": {
        "id": "K2rUcFgGvj7n"
      },
      "outputs": [],
      "source": [
        "df = pd.read_csv(DATA_DIR +'image_list.csv')"
      ]
    },
    {
      "cell_type": "code",
      "execution_count": null,
      "metadata": {
        "id": "9HoTmTwyvfQe"
      },
      "outputs": [],
      "source": [
        "data = [{'image': DATA_DIR + 'Images/' + x + \".nii.gz\", \"label\":DATA_DIR + 'mask_prostate/' + makeLabelNo(x.split(\"_\")[0]) + \".nii.gz\"  } for x in df['T2']]"
      ]
    },
    {
      "cell_type": "code",
      "execution_count": null,
      "metadata": {
        "id": "QzlMEqIKvnzV"
      },
      "outputs": [],
      "source": [
        "slice_size = 16"
      ]
    },
    {
      "cell_type": "code",
      "execution_count": null,
      "metadata": {
        "id": "_FVC_p72vTHz"
      },
      "outputs": [],
      "source": [
        "from utils.preprocessing import create_same_slice_nifti\n",
        "\n",
        "create_same_slice_nifti(data, slice_size, SLICED_OUT_DIR)"
      ]
    },
    {
      "cell_type": "code",
      "execution_count": null,
      "metadata": {
        "id": "bACxpGFCOxA4"
      },
      "outputs": [],
      "source": [
        "data = get_data_path(SLICED_OUT_DIR)"
      ]
    },
    {
      "cell_type": "markdown",
      "metadata": {
        "id": "q-fTOxiBZcm7"
      },
      "source": [
        "# Create Cross folds\n",
        "\n",
        "need to run if 5 folds weren't created"
      ]
    },
    {
      "cell_type": "code",
      "execution_count": 18,
      "metadata": {
        "id": "OWZyl88wapzC"
      },
      "outputs": [],
      "source": [
        "def get_data_path(path):\n",
        "  f = open( path )\n",
        "  jdata = json.load(f)\n",
        "  f.close()\n",
        "  return jdata[\"path\"]"
      ]
    },
    {
      "cell_type": "code",
      "execution_count": 19,
      "metadata": {
        "id": "xa-SIjkDzVj8"
      },
      "outputs": [],
      "source": [
        "def save_to_json(data, path):\n",
        "  with open(path, 'w') as fp:\n",
        "    json.dump(data, fp)"
      ]
    },
    {
      "cell_type": "code",
      "execution_count": 20,
      "metadata": {},
      "outputs": [],
      "source": [
        "import os\n",
        "if not os.path.exists(FOLD_DIR):\n",
        "    os.makedirs(FOLD_DIR)"
      ]
    },
    {
      "cell_type": "code",
      "execution_count": 26,
      "metadata": {
        "id": "V5NLgy3oatFp"
      },
      "outputs": [],
      "source": [
        "\n",
        "data = get_data_path(SLICED_OUT_DIR +  \"/config.json\" )\n",
        "train_size =  int(len(data)*0.8)\n",
        "test_paths =  data[train_size:]\n",
        "save_to_json({\"path\": test_paths}, FOLD_DIR  + \"/test_config.json\")\n",
        "\n",
        "data  = data[:train_size]"
      ]
    },
    {
      "cell_type": "code",
      "execution_count": 27,
      "metadata": {
        "id": "fDyph9kBZgf1"
      },
      "outputs": [],
      "source": [
        "from sklearn.model_selection import KFold\n",
        "\n",
        "k=5\n",
        "kfold = KFold(n_splits=k)\n",
        "\n",
        "for index, (train_indices, val_indices) in enumerate(kfold.split(data)):\n",
        "  name = \"fold\"+str(index)\n",
        "  \n",
        "\n",
        "  if not os.path.exists(FOLD_DIR + name ):\n",
        "        os.makedirs(FOLD_DIR + name)\n",
        "\n",
        "  train_paths = []\n",
        "  for index in train_indices:\n",
        "    train_paths.append( data[index])\n",
        "\n",
        "  save_to_json({\"path\": train_paths}, FOLD_DIR + name + \"/train_config.json\")\n",
        "\n",
        "  val_paths = []\n",
        "  for index in val_indices:\n",
        "    val_paths.append( data[index])\n",
        "\n",
        "  save_to_json({ \"path\": val_paths}, FOLD_DIR + name + \"/val_config.json\")\n",
        " "
      ]
    },
    {
      "cell_type": "markdown",
      "metadata": {
        "id": "dEO65i01p-bt"
      },
      "source": [
        "# Train"
      ]
    },
    {
      "cell_type": "markdown",
      "metadata": {
        "id": "zDtjJeVkBQGd"
      },
      "source": [
        "## Train Functions"
      ]
    },
    {
      "cell_type": "code",
      "execution_count": 16,
      "metadata": {
        "id": "rHb3PtszOxBR"
      },
      "outputs": [],
      "source": [
        "from utils.transform import transform\n",
        "import os.path\n",
        "import torch\n",
        "\n",
        "def updateLogs(path, data):\n",
        "    f = open(path,'a')\n",
        "    f.write(data)\n",
        "    f.close()\n",
        "\n",
        "def get_data_path(path):\n",
        "  f = open( path )\n",
        "  jdata = json.load(f)\n",
        "  f.close()\n",
        "  return jdata[\"path\"]\n",
        "\n",
        "def Cross_Val(model_class,  model_args, loss_function, load_from, fold_dir, model_dir , epochs=100, test_interval= 5,start_from= 1, device=torch.device(\"cpu\") , start_fold=0, num_folds=5):\n",
        "\n",
        "  for index in range(start_fold , num_folds):\n",
        "\n",
        "    fold = 'fold'+str(index)\n",
        "    \n",
        "    train_data = get_data_path(fold_dir + fold +\"/train_config.json\")\n",
        "    test_data = get_data_path(fold_dir + fold +\"/val_config.json\")\n",
        "\n",
        "    pixdim =(1.5, 1.5, 1.0)\n",
        "    a_min=0\n",
        "    a_max=500\n",
        "    spatial_size= [128, 128,16] #[384, 384,18]\n",
        "\n",
        "    train_loader = transform(train_data, a_min, a_max, spatial_size, pixdim)\n",
        "    test_loader = transform(test_data, a_min, a_max, spatial_size, pixdim)\n",
        "\n",
        "    model_fold_dir = model_dir + fold+'/'\n",
        "\n",
        "    if not os.path.exists(model_fold_dir):\n",
        "      os.makedirs(model_fold_dir)\n",
        "\n",
        "    data_in = [train_loader, test_loader]\n",
        "\n",
        "    model = model_class(**model_args).to(device)\n",
        "    \n",
        "    path =  model_dir + fold +\"/best_metric_model.pth\"\n",
        "\n",
        "    if (os.path.exists(path)):\n",
        "          model.load_state_dict(torch.load(\n",
        "              os.path.join(path), map_location=device))\n",
        "          print(\"Loaded\") \n",
        "\n",
        "    \n",
        "    optimizer = torch.optim.Adam(model.parameters(), 1e-3, weight_decay=1e-5, amsgrad=True)\n",
        "\n",
        "    \n",
        "    print(f\"{fold} starts_______________________\\n\")\n",
        "    updateLogs(os.path.join(model_dir, \"logs.txt\"), f\"{fold} starts_______________________\\n\")\n",
        "    train(model, data_in, loss_function, optimizer, epochs, model_fold_dir, test_interval= 1,start_from= 1, load_from = model_fold_dir)\n",
        "    start_from= 1\n",
        "    updateLogs(os.path.join(model_dir, \"logs.txt\"), f\"{fold} ends _______________________\\n\")"
      ]
    },
    {
      "cell_type": "code",
      "execution_count": 4,
      "metadata": {
        "id": "uqTeRvUBmOYI"
      },
      "outputs": [],
      "source": [
        "import torch \n",
        "device = torch.device(\"cuda:0\" if torch.cuda.is_available() else \"cpu\")"
      ]
    },
    {
      "cell_type": "code",
      "execution_count": 7,
      "metadata": {
        "id": "xUsrrT1BDEES"
      },
      "outputs": [],
      "source": [
        "# loss_function = DiceLoss(to_onehot_y=True, sigmoid=True, squared_pred=True)\n",
        "loss_function = CustomTverskyLoss(include_background=True, to_onehot_y=True, sigmoid=True, alpha=0.5, beta=0.5, reduction='mean')"
      ]
    },
    {
      "cell_type": "markdown",
      "metadata": {
        "id": "nUQFtc_GoE0s"
      },
      "source": [
        "## UNET"
      ]
    },
    {
      "cell_type": "code",
      "execution_count": null,
      "metadata": {
        "id": "vHArhobNDAJa"
      },
      "outputs": [],
      "source": [
        "from monai.networks.nets import UNet\n",
        "from monai.networks.layers import Norm\n",
        "\n",
        "\n",
        "model_dir = OUT_DIR +\"unet-test_2/\"\n",
        "model_args = {\n",
        "    'num_res_units': 2,\n",
        "    'channels': (64, 128, 256, 512),\n",
        "    'out_channels': 1,\n",
        "    'in_channels': 1,\n",
        "    'norm': Norm.BATCH,\n",
        "    'spatial_dims': 3,\n",
        "    'strides': (2, 2, 2),\n",
        "}\n",
        "\n",
        "Cross_Val(UNet, model_args, loss_function, fold_dir=FOLD_DIR, model_dir= model_dir, \n",
        "          epochs=2, test_interval= 1,start_from= 1, device=device, load_from = model_dir, start_fold=1, num_folds=5)"
      ]
    },
    {
      "cell_type": "markdown",
      "metadata": {
        "id": "vwW3vyUBoQAK"
      },
      "source": [
        "## MNet"
      ]
    },
    {
      "cell_type": "code",
      "execution_count": null,
      "metadata": {
        "id": "j8uFPMbtqLji"
      },
      "outputs": [],
      "source": [
        "from Models.ModifiedNet import MNet\n",
        "\n",
        "model_dir = OUT_DIR +\"mnet-test/\"\n",
        "model_args = {\n",
        "   \n",
        "}\n",
        "\n",
        "Cross_Val(MNet, model_args, loss_function, fold_dir=FOLD_DIR, model_dir= model_dir, \n",
        "          epochs=2, test_interval= 1,start_from= 1, device=device, load_from = model_dir, start_fold=1, num_folds=5)"
      ]
    },
    {
      "cell_type": "markdown",
      "metadata": {
        "id": "8ADLHu-Y3l80"
      },
      "source": [
        "## UNet3+"
      ]
    },
    {
      "cell_type": "code",
      "execution_count": 18,
      "metadata": {
        "colab": {
          "background_save": true,
          "base_uri": "https://localhost:8080/",
          "height": 404
        },
        "id": "_I_k9wkE3otY",
        "outputId": "b838c76f-8c9e-45f3-e916-26e0781fd35e"
      },
      "outputs": [
        {
          "name": "stderr",
          "output_type": "stream",
          "text": [
            "c:\\Users\\envy\\Desktop\\Prostate_MRI\\Prostate_MRI_Detection_3D_Model\\packages\\lib\\site-packages\\monai\\utils\\deprecate_utils.py:107: FutureWarning: <class 'monai.transforms.utility.array.AddChannel'>: Class `AddChannel` has been deprecated since version 0.8. please use MetaTensor data type and monai.transforms.EnsureChannelFirst instead.\n",
            "  warn_deprecated(obj, msg, warning_category)\n"
          ]
        },
        {
          "name": "stdout",
          "output_type": "stream",
          "text": [
            "fold1 starts_______________________\n",
            "\n",
            "----------\n",
            "epoch 1/2\n"
          ]
        },
        {
          "name": "stderr",
          "output_type": "stream",
          "text": [
            "c:\\Users\\envy\\Desktop\\Prostate_MRI\\Prostate_MRI_Detection_3D_Model\\packages\\lib\\site-packages\\monai\\losses\\dice.py:144: UserWarning: single channel prediction, `to_onehot_y=True` ignored.\n",
            "  warnings.warn(\"single channel prediction, `to_onehot_y=True` ignored.\")\n"
          ]
        },
        {
          "name": "stdout",
          "output_type": "stream",
          "text": [
            "1/163, Train_loss: 0.8964 Train_dice: 0.1036\n",
            "2/163, Train_loss: 0.9999 Train_dice: 0.0001\n",
            "3/163, Train_loss: 1.0000 Train_dice: 0.0000\n",
            "4/163, Train_loss: 0.9997 Train_dice: 0.0003\n",
            "5/163, Train_loss: 0.9999 Train_dice: 0.0001\n",
            "6/163, Train_loss: 1.0000 Train_dice: 0.0000\n",
            "7/163, Train_loss: 0.9998 Train_dice: 0.0002\n",
            "8/163, Train_loss: 0.9999 Train_dice: 0.0001\n",
            "9/163, Train_loss: 0.9997 Train_dice: 0.0003\n",
            "10/163, Train_loss: 0.9992 Train_dice: 0.0008\n",
            "11/163, Train_loss: 1.0000 Train_dice: 0.0000\n",
            "12/163, Train_loss: 0.9978 Train_dice: 0.0022\n",
            "13/163, Train_loss: 0.9973 Train_dice: 0.0027\n",
            "14/163, Train_loss: 0.9862 Train_dice: 0.0138\n"
          ]
        }
      ],
      "source": [
        "from Models.Unet_TriplePlus import U_net_TriplePlus\n",
        "\n",
        "model_dir = OUT_DIR +\"unet_3plus-test/\"\n",
        "model_args = {'in_channel':1,'out_channel':1}\n",
        "\n",
        "Cross_Val( U_net_TriplePlus, model_args, loss_function, fold_dir=FOLD_DIR, model_dir= model_dir, \n",
        "          epochs=2, test_interval= 1,start_from= 1, device=device, load_from = model_dir, start_fold=1, num_folds=5)"
      ]
    },
    {
      "cell_type": "code",
      "execution_count": null,
      "metadata": {},
      "outputs": [],
      "source": []
    },
    {
      "attachments": {},
      "cell_type": "markdown",
      "metadata": {},
      "source": [
        "# Test"
      ]
    },
    {
      "attachments": {},
      "cell_type": "markdown",
      "metadata": {},
      "source": [
        "# Model Loading"
      ]
    },
    {
      "attachments": {},
      "cell_type": "markdown",
      "metadata": {},
      "source": [
        "### MNet"
      ]
    },
    {
      "cell_type": "code",
      "execution_count": null,
      "metadata": {},
      "outputs": [],
      "source": [
        "from Models.ModifiedNet import MNet\n",
        "\n",
        "model_dir = OUT_DIR +\"mnet-test/\"\n",
        "model_args = {\n",
        "   \n",
        "}\n",
        "\n",
        "model = MNet(**model_args).to(device)\n",
        "    \n",
        "path =  model_dir + fold +\"/best_metric_model.pth\"\n",
        "\n",
        "if (os.path.exists(path)):\n",
        "    model.load_state_dict(torch.load(\n",
        "        os.path.join(path), map_location=device))\n",
        "    print(\"Loaded\") "
      ]
    },
    {
      "attachments": {},
      "cell_type": "markdown",
      "metadata": {},
      "source": [
        "### UNet"
      ]
    },
    {
      "cell_type": "code",
      "execution_count": null,
      "metadata": {},
      "outputs": [],
      "source": [
        "from Models.UNet import UNet\n",
        "model = UNet().to(device)"
      ]
    },
    {
      "cell_type": "code",
      "execution_count": null,
      "metadata": {},
      "outputs": [],
      "source": [
        "import os.path\n",
        "\n",
        "path = OUT_DIR+ \"unet/\"+ \"best_metric_model.pth\"\n",
        "\n",
        "if (os.path.exists(path)):\n",
        "    model.load_state_dict(torch.load(\n",
        "        os.path.join(path)))\n",
        "#model.eval()"
      ]
    },
    {
      "attachments": {},
      "cell_type": "markdown",
      "metadata": {},
      "source": [
        "### UNet 3+"
      ]
    },
    {
      "cell_type": "code",
      "execution_count": null,
      "metadata": {},
      "outputs": [],
      "source": [
        "from Models.UNet_3Plus import UNet_3Plus\n",
        "\n",
        "model = UNet_3Plus().to(device=device)"
      ]
    },
    {
      "cell_type": "code",
      "execution_count": null,
      "metadata": {},
      "outputs": [],
      "source": [
        "import os.path\n",
        "\n",
        "path = OUT_DIR+ \"unet_3plus/\"+ \"best_metric_model.pth\"\n",
        "\n",
        "if (os.path.exists(path)):\n",
        "    model.load_state_dict(torch.load(\n",
        "        os.path.join(path)))\n",
        "# model.eval()"
      ]
    },
    {
      "attachments": {},
      "cell_type": "markdown",
      "metadata": {},
      "source": [
        "## Model Testing"
      ]
    },
    {
      "cell_type": "code",
      "execution_count": 28,
      "metadata": {},
      "outputs": [],
      "source": [
        "def get_data_path(path):\n",
        "  f = open( path )\n",
        "  jdata = json.load(f)\n",
        "  f.close()\n",
        "  return jdata[\"path\"]"
      ]
    },
    {
      "cell_type": "code",
      "execution_count": 29,
      "metadata": {},
      "outputs": [],
      "source": [
        "test_data = get_data_path(FOLD_DIR +\"test_config.json\")"
      ]
    },
    {
      "cell_type": "code",
      "execution_count": 30,
      "metadata": {},
      "outputs": [
        {
          "data": {
            "text/plain": [
              "41"
            ]
          },
          "execution_count": 30,
          "metadata": {},
          "output_type": "execute_result"
        }
      ],
      "source": [
        "len(test_data)"
      ]
    },
    {
      "cell_type": "code",
      "execution_count": null,
      "metadata": {},
      "outputs": [],
      "source": [
        "pixdim =(1.5, 1.5, 1.0)\n",
        "a_min=0\n",
        "a_max=500\n",
        "spatial_size= [128, 128,16] #[384, 384,18]\n",
        "\n",
        "test_loader = transform(test_data, a_min, a_max, spatial_size, pixdim)"
      ]
    },
    {
      "cell_type": "code",
      "execution_count": null,
      "metadata": {},
      "outputs": [],
      "source": [
        "fold = \"fold0\""
      ]
    },
    {
      "cell_type": "code",
      "execution_count": null,
      "metadata": {},
      "outputs": [],
      "source": [
        "def dice_metric(predicted, target):\n",
        "    '''\n",
        "    In this function we take `predicted` and `target` (label) to calculate the dice coeficient then we use it \n",
        "    to calculate a metric value for the training and the validation.\n",
        "    '''\n",
        "    dice_value = DiceLoss(to_onehot_y=True, sigmoid=True, squared_pred=True)\n",
        "    value = 1 - dice_value(predicted, target).item()\n",
        "    return value"
      ]
    },
    {
      "cell_type": "code",
      "execution_count": null,
      "metadata": {},
      "outputs": [],
      "source": [
        "loss_function = CustomTverskyLoss(include_background=True, to_onehot_y=True, sigmoid=True, alpha=0.5, beta=0.5, reduction='mean')"
      ]
    },
    {
      "cell_type": "code",
      "execution_count": null,
      "metadata": {},
      "outputs": [],
      "source": [
        "model.eval()\n",
        "with torch.no_grad():\n",
        "  test_epoch_loss = 0\n",
        "  test_metric = 0\n",
        "  epoch_metric_test = 0\n",
        "  test_step = 0\n",
        "\n",
        "  for test_data in test_loader:\n",
        "\n",
        "      test_step += 1\n",
        "\n",
        "      test_volume = test_data[\"image\"]\n",
        "      test_label = test_data[\"label\"]\n",
        "      test_label = test_label != 0\n",
        "      if torch.cuda.is_available():\n",
        "          test_volume, test_label = (test_volume.to(device), test_label.to(device),)\n",
        "      \n",
        "      test_outputs = model(test_volume)\n",
        "      \n",
        "      test_loss = loss_function(test_outputs, test_label)\n",
        "      test_epoch_loss += test_loss.item()\n",
        "      test_metric = dice_metric(test_outputs, test_label)\n",
        "      epoch_metric_test += test_metric\n",
        "\n",
        "  epoch_metric_test /= test_step\n",
        "  print(f'test_dice_epoch: {epoch_metric_test:.4f}')\n"
      ]
    },
    {
      "cell_type": "code",
      "execution_count": 31,
      "metadata": {},
      "outputs": [],
      "source": [
        "save_to_json({\"path\": 'test_dice_epoch: {epoch_metric_test:.4f}'}, FOLD_DIR + name + \"/results.json\")"
      ]
    }
  ],
  "metadata": {
    "accelerator": "GPU",
    "colab": {
      "collapsed_sections": [
        "lm-MDLOPmwBa",
        "9OBnxzC1m1tc"
      ],
      "provenance": []
    },
    "gpuClass": "standard",
    "kernelspec": {
      "display_name": "packages",
      "language": "python",
      "name": "python3"
    },
    "language_info": {
      "codemirror_mode": {
        "name": "ipython",
        "version": 3
      },
      "file_extension": ".py",
      "mimetype": "text/x-python",
      "name": "python",
      "nbconvert_exporter": "python",
      "pygments_lexer": "ipython3",
      "version": "3.10.4"
    }
  },
  "nbformat": 4,
  "nbformat_minor": 0
}
